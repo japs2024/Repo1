{
  "nbformat": 4,
  "nbformat_minor": 0,
  "metadata": {
    "colab": {
      "provenance": [],
      "include_colab_link": true
    },
    "kernelspec": {
      "name": "python3",
      "display_name": "Python 3"
    },
    "language_info": {
      "name": "python"
    }
  },
  "cells": [
    {
      "cell_type": "markdown",
      "metadata": {
        "id": "view-in-github",
        "colab_type": "text"
      },
      "source": [
        "<a href=\"https://colab.research.google.com/github/japs2024/Repo1/blob/main/example_for_one_way_anova.ipynb\" target=\"_parent\"><img src=\"https://colab.research.google.com/assets/colab-badge.svg\" alt=\"Open In Colab\"/></a>"
      ]
    },
    {
      "cell_type": "code",
      "execution_count": 2,
      "metadata": {
        "id": "HLRVzfsMI3cq"
      },
      "outputs": [],
      "source": [
        "import numpy as np\n",
        "from scipy.stats import f\n",
        "\n",
        "# Given data\n",
        "school_1 = np.array([85, 88, 90, 92, 86])\n",
        "school_2 = np.array([78, 82, 80, 85, 88])\n",
        "school_3 = np.array([92, 94, 89, 88, 90])"
      ]
    },
    {
      "cell_type": "code",
      "source": [
        "# Step 1: Calculate Grand Mean\n",
        "all_scores = np.concatenate([school_1, school_2, school_3])\n",
        "grand_mean = np.mean(all_scores)"
      ],
      "metadata": {
        "id": "Ms_0UbMdJCNy"
      },
      "execution_count": 3,
      "outputs": []
    },
    {
      "cell_type": "code",
      "source": [
        "# Step 2: Calculate SST\n",
        "sst = np.sum((all_scores - grand_mean)**2)"
      ],
      "metadata": {
        "id": "1p-q4lLAJOOm"
      },
      "execution_count": 4,
      "outputs": []
    },
    {
      "cell_type": "code",
      "source": [
        "# Step 3: Calculate SSB\n",
        "ssb = np.sum([len(school) * (np.mean(school) - grand_mean)**2 for school in [school_1, school_2, school_3]])"
      ],
      "metadata": {
        "id": "7pXB6XeIJOJ2"
      },
      "execution_count": 5,
      "outputs": []
    },
    {
      "cell_type": "code",
      "source": [
        "# Step 4: Calculate SSW\n",
        "ssw = np.sum([(score - np.mean(school))**2 for school, scores in zip([school_1, school_2, school_3], [school_1, school_2, school_3]) for score in scores])"
      ],
      "metadata": {
        "id": "RMXPWv3pJdag"
      },
      "execution_count": 6,
      "outputs": []
    },
    {
      "cell_type": "code",
      "source": [
        "# Step 5: Degrees of Freedom\n",
        "df_between = 3 - 1\n",
        "df_within = len(all_scores) - 3"
      ],
      "metadata": {
        "id": "u9-g_FKpJai2"
      },
      "execution_count": 7,
      "outputs": []
    },
    {
      "cell_type": "code",
      "source": [
        "# Step 6: Calculate Mean Squares\n",
        "msb = ssb / df_between\n",
        "msw = ssw / df_within"
      ],
      "metadata": {
        "id": "G1DOHcAoJYK2"
      },
      "execution_count": 8,
      "outputs": []
    },
    {
      "cell_type": "code",
      "source": [
        "# Step 7: Calculate F-statistic\n",
        "f_statistic = msb / msw"
      ],
      "metadata": {
        "id": "HCvymn50JOHM"
      },
      "execution_count": 9,
      "outputs": []
    },
    {
      "cell_type": "code",
      "source": [
        "# Step 8: Compare with Critical Value or P-value\n",
        "p_value = 1 - f.cdf(f_statistic, df_between, df_within)"
      ],
      "metadata": {
        "id": "8VVXHJI3JODO"
      },
      "execution_count": 10,
      "outputs": []
    },
    {
      "cell_type": "code",
      "source": [
        "# Print results\n",
        "print(f\"F-statistic: {f_statistic}\")\n",
        "print(f\"P-value: {p_value}\")\n",
        "\n",
        "alpha = 0.05\n",
        "if p_value < alpha:\n",
        "    print(\"Reject the null hypothesis: \\nThere are significant differences in test scores among the three schools.\")\n",
        "else:\n",
        "    print(\"Fail to reject the null hypothesis: \\nThere are no significant differences in test scores among the three schools.\")"
      ],
      "metadata": {
        "colab": {
          "base_uri": "https://localhost:8080/"
        },
        "id": "bi__dXfrJOAN",
        "outputId": "5d0fd131-728e-4f27-856f-cca49ec267eb"
      },
      "execution_count": 11,
      "outputs": [
        {
          "output_type": "stream",
          "name": "stdout",
          "text": [
            "F-statistic: 8.483221476510069\n",
            "P-value: 0.005054945419651569\n",
            "Reject the null hypothesis: \n",
            "There are significant differences in test scores among the three schools.\n"
          ]
        }
      ]
    },
    {
      "cell_type": "code",
      "source": [
        "# prompt: generale a random list with commas with 10 numbers\n",
        "\n",
        "import random\n",
        "random_list = [str(random.randint(0, 100)) for _ in range(10)]\n",
        "print(', '.join(random_list))\n"
      ],
      "metadata": {
        "id": "2q8vbCx7JnZK",
        "colab": {
          "base_uri": "https://localhost:8080/"
        },
        "outputId": "3a620849-d80e-4746-eb56-bdc7293b2416"
      },
      "execution_count": 14,
      "outputs": [
        {
          "output_type": "stream",
          "name": "stdout",
          "text": [
            "23,80,46,50,30,86,33,29,23,1\n"
          ]
        }
      ]
    },
    {
      "cell_type": "code",
      "execution_count": null,
      "metadata": {
        "id": "HDeCSqfqwArY"
      },
      "outputs": [],
      "source": [
        "import numpy as np\n",
        "from scipy.stats import f\n",
        "\n",
        "# Given data\n",
        "school_1 = np.array([85, 88, 90, 92, 86])\n",
        "school_2 = np.array([78, 82, 80, 85, 88])\n",
        "school_3 = np.array([92, 94, 89, 88, 90])\n"
      ]
    },
    {
      "cell_type": "code",
      "source": [
        "# prompt: zip arrays\n",
        "\n",
        "import numpy as np\n",
        "zipped_arrays = np.stack((school_1, school_2, school_3), axis=1)\n",
        "print(zipped_arrays)\n"
      ],
      "metadata": {
        "colab": {
          "base_uri": "https://localhost:8080/"
        },
        "id": "avwAu3gMu1PB",
        "outputId": "5c2caebe-d50f-4d5e-81ce-9abfdb4f23d7"
      },
      "execution_count": 17,
      "outputs": [
        {
          "output_type": "stream",
          "name": "stdout",
          "text": [
            "[[85 78 92]\n",
            " [88 82 94]\n",
            " [90 80 89]\n",
            " [92 85 88]\n",
            " [86 88 90]]\n"
          ]
        }
      ]
    },
    {
      "cell_type": "markdown",
      "source": [
        "zip examples"
      ],
      "metadata": {
        "id": "nEca8Xeyuyee"
      }
    }
  ]
}